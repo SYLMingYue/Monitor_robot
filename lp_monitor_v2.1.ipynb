{
 "cells": [
  {
   "cell_type": "code",
   "execution_count": 1,
   "metadata": {},
   "outputs": [],
   "source": [
    "import time\n",
    "import smtplib\n",
    "from email.mime.text import MIMEText\n",
    "from email.mime.multipart import MIMEMultipart\n",
    "import requests\n",
    "import json\n",
    "import datetime\n",
    "import numpy as np"
   ]
  },
  {
   "cell_type": "code",
   "execution_count": 2,
   "metadata": {},
   "outputs": [],
   "source": [
    "def send_email(subject, body, recipient_email):\n",
    "    # 163邮箱的邮件服务器设置\n",
    "    smtp_server = \"smtp.163.com\"\n",
    "    smtp_port = 25\n",
    "    sender_email = 'Wdp_bot@163.com'  # 请替换为您的163邮箱地址\n",
    "    sender_password = \"***\"  # 请替换为您的163邮箱密码或授权码\n",
    "\n",
    "    # 创建邮件内容\n",
    "    message = MIMEMultipart()\n",
    "    message[\"From\"] = sender_email\n",
    "    message[\"To\"] = recipient_email\n",
    "    message[\"Subject\"] = subject\n",
    "    message.attach(MIMEText(body, \"plain\"))\n",
    "\n",
    "    # 连接邮件服务器并发送邮件\n",
    "    try:\n",
    "        with smtplib.SMTP(smtp_server, smtp_port) as server:\n",
    "            server.starttls()  # 开启TLS加密\n",
    "            server.login(sender_email, sender_password)\n",
    "            server.sendmail(sender_email, recipient_email, message.as_string())\n",
    "        print(\"邮件发送成功！\")\n",
    "    except Exception as e:\n",
    "        print(\"邮件发送失败:\", str(e))"
   ]
  },
  {
   "cell_type": "code",
   "execution_count": 3,
   "metadata": {},
   "outputs": [],
   "source": [
    "def get_two_digits(value):\n",
    "    return \"{:.2f}\".format(value)"
   ]
  },
  {
   "cell_type": "code",
   "execution_count": 4,
   "metadata": {},
   "outputs": [],
   "source": [
    "def get_value_from_dict(data, path):\n",
    "    keys = path.split('.')\n",
    "    current_data = data\n",
    "    for key in keys:\n",
    "        if key in current_data:\n",
    "            current_data = current_data[key]\n",
    "        else:\n",
    "            return None\n",
    "    return current_data"
   ]
  },
  {
   "cell_type": "code",
   "execution_count": 5,
   "metadata": {
    "tags": []
   },
   "outputs": [],
   "source": [
    "def data_analysis(url1, url2, token_name1, token_name2, path1, path2, path1h, gap, recipient_email, current_time, nonce):\n",
    "    # 发送GET请求\n",
    "    response1 = requests.get(url1)\n",
    "    response2 = requests.get(url2)\n",
    "    # 检查响应状态码，如果状态码为200，则请求成功\n",
    "    if response1.status_code and response2.status_code == 200:\n",
    "        # 获取响应数据\n",
    "        dict1 = response1.json()\n",
    "        dict2 = response2.json()\n",
    "        #print(dict2)\n",
    "        # 处理响应数据\n",
    "        price1 = get_value_from_dict(dict1, path1)\n",
    "        price2 = get_value_from_dict(dict2, path2)\n",
    "        price1h = get_value_from_dict(dict2, path1h)\n",
    "        \n",
    "        if token_name2 == \"BIT_OP\":\n",
    "            price1 = float(price1[:12])\n",
    "            price2 = float(price2[:12])\n",
    "            price2 = price2/10000000000\n",
    "        elif token_name2 == \"PEPE_OP\":\n",
    "            price1 = float(price1[:10])\n",
    "            price2 = float(price2[:10])\n",
    "        else:\n",
    "            price1 = float(price1[:6])\n",
    "            price2 = float(price2[:6])\n",
    "        \n",
    "        if isinstance(price1h, str):    \n",
    "            price1h = float(price1h[:6])\n",
    "        price_gap = abs((price1 - price2)/price2*100)\n",
    "        gap_array[nonce] = get_two_digits(price_gap)\n",
    "        print(token_name1, price1, token_name2, price2, \"1h_change\", price1h, gap_array[nonce])\n",
    "        if price_gap > gap:\n",
    "            subject = f\"警报：{token_name2} potential arbitrage！\"\n",
    "            body = f\"{current_time}:警报：{token_name2}代币出现套利空间，目前价差为{gap_array[nonce]},{token_name1}价格为{price1},{token_name2}价格为{price2}！\"\n",
    "            print(f\"警报：{token_name2}代币出现套利空间，目前价差为{gap_array[nonce]},{token_name1}价格为{price1},{token_name2}价格为{price2}！\")\n",
    "            if mail_index[nonce] == 0:\n",
    "                send_email(subject, body, recipient_email)\n",
    "                mail_index[nonce] = 1\n",
    "        elif abs(price1h) > 10:\n",
    "            subject = f\"警报：{token_name2} 价格波动超过10%\"\n",
    "            body = f\"{current_time}:警报：{token_name2}代币价格出现巨大波动，目前1h变化为{price1h}！\"\n",
    "            print(f\"警报：{token_name2}代币价格出现巨大波动，目前1h变化为{price1h}！\")\n",
    "            if mail_index[nonce] == 0:\n",
    "                send_email(subject, body, recipient_email)\n",
    "                mail_index[nonce] = 2\n",
    "        else:\n",
    "            if mail_index[nonce] == 1:\n",
    "                subject = f\"警报解除：{token_name2} 价差消除\"\n",
    "                body = f\"{current_time}:警报解除：{token_name2}代币价差消除，目前价差为{gap_array[nonce]},{token_name1}价格为{price1},{token_name2}价格为{price2}！\"\n",
    "                print(f\"{current_time}:警报解除：{token_name2}代币价差消除，目前价差为{gap_array[nonce]},{token_name1}价格为{price1},{token_name2}价格为{price2}！\")\n",
    "                mail_index[nonce] = 0\n",
    "            elif mail_index[nonce] == 2:\n",
    "                subject = f\"警报：{token_name2} 价格波动消除\"\n",
    "                body = f\"{current_time}:警报：{token_name2}代币价格波动消除，目前1h变化为{price1h}！\"\n",
    "                print(f\"警报：{token_name2}代币价格波动消除，目前1h变化为{price1h}！\")\n",
    "                mail_index[nonce] = 0\n",
    "            #else:\n",
    "                #print(f\"{token_name1}价差正常\")\n",
    "    else:\n",
    "        print(\"请求失败，状态码：\", response1.status_code, response2.status_code)"
   ]
  },
  {
   "cell_type": "code",
   "execution_count": 6,
   "metadata": {},
   "outputs": [],
   "source": [
    "def MET_function():\n",
    "    token_name1 = \"MET_ETH\"\n",
    "    token_name2 = \"MET_OP\"\n",
    "    url1 = \"https://api.geckoterminal.com/api/v2/networks/eth/pools/0xceb5c29bde4604296135dd7b027a433fd3633516\"\n",
    "    url2 = \"https://api.geckoterminal.com/api/v2/networks/optimism/pools/0xa8e4fa96327c5a93e159bd781f3ccfd860519d82\"\n",
    "    path1 = 'data.attributes.base_token_price_usd'\n",
    "    path2 = 'data.attributes.base_token_price_usd'\n",
    "    path1h = 'data.attributes.price_change_percentage.h1'\n",
    "    gap = 15\n",
    "    current_time = datetime.datetime.now()\n",
    "    nonce = 1\n",
    "    data_analysis(url1, url2, token_name1, token_name2, path1, path2, path1h, gap, recipient_email, current_time, nonce)"
   ]
  },
  {
   "cell_type": "code",
   "execution_count": 7,
   "metadata": {},
   "outputs": [],
   "source": [
    "def T_function():\n",
    "    token_name1 = \"T_ETH\"\n",
    "    token_name2 = \"T_OP\"\n",
    "    url1 = \"https://api.geckoterminal.com/api/v2/networks/eth/pools/0x752ebeb79963cf0732e9c0fec72a49fd1defaeac\"\n",
    "    url2 = \"https://api.dexscreener.com/latest/dex/pairs/optimism/0xc60d585edf334bed161975c2bc91275123a70859\"\n",
    "    path1 = 'data.attributes.base_token_price_usd'\n",
    "    path2 = 'pair.priceUsd'\n",
    "    path1h = 'pair.priceChange.h1'\n",
    "    gap = 20\n",
    "    current_time = datetime.datetime.now()\n",
    "    nonce = 2\n",
    "    data_analysis(url1, url2, token_name1, token_name2, path1, path2, path1h, gap, recipient_email, current_time, nonce)"
   ]
  },
  {
   "cell_type": "code",
   "execution_count": 8,
   "metadata": {},
   "outputs": [],
   "source": [
    "def BIT_function():\n",
    "    token_name1 = \"BIT_ETH\"\n",
    "    token_name2 = \"BIT_OP\"\n",
    "    url1 = \"https://api.geckoterminal.com/api/v2/networks/eth/pools/0x2cc846fff0b08fb3bffad71f53a60b4b6e6d6482\"\n",
    "    url2 = \"https://api.geckoterminal.com/api/v2/networks/optimism/pools/0x602ef41cf4f6a112f8e3dcbb7660287310a9fb51\"\n",
    "    path1 = 'data.attributes.base_token_price_usd'\n",
    "    path2 = 'data.attributes.base_token_price_usd'\n",
    "    path1h = 'data.attributes.price_change_percentage.h1'\n",
    "    gap = 20\n",
    "    current_time = datetime.datetime.now()\n",
    "    nonce = 3\n",
    "    data_analysis(url1, url2, token_name1, token_name2, path1, path2, path1h, gap, recipient_email, current_time, nonce)"
   ]
  },
  {
   "cell_type": "code",
   "execution_count": 9,
   "metadata": {},
   "outputs": [],
   "source": [
    "def PEPE_function():\n",
    "    token_name1 = \"PEPE_ETH\"\n",
    "    token_name2 = \"PEPE_OP\"\n",
    "    url1 = \"https://api.geckoterminal.com/api/v2/networks/eth/pools/0x11950d141ecb863f01007add7d1a342041227b58\"\n",
    "    url2 = \"https://api.geckoterminal.com/api/v2/networks/optimism/pools/0x83b6f73ca05826b402343bc61d3c180e1597ae50\"\n",
    "    path1 = 'data.attributes.base_token_price_usd'\n",
    "    path2 = 'data.attributes.base_token_price_usd'\n",
    "    path1h = 'data.attributes.price_change_percentage.h1'\n",
    "    gap = 25\n",
    "    current_time = datetime.datetime.now()\n",
    "    nonce = 4\n",
    "    data_analysis(url1, url2, token_name1, token_name2, path1, path2, path1h, gap, recipient_email, current_time, nonce)"
   ]
  },
  {
   "cell_type": "code",
   "execution_count": 10,
   "metadata": {},
   "outputs": [],
   "source": [
    "def DHT_function():\n",
    "    token_name1 = \"DHT_ETH\"\n",
    "    token_name2 = \"DHT_OP\"\n",
    "    url1 = \"https://api.geckoterminal.com/api/v2/networks/eth/pools/0x8cab3e311702acb64e250926d77134fde604bd4d\"\n",
    "    url2 = \"https://api.geckoterminal.com/api/v2/networks/optimism/pools/0x7e1357fa56c0ecfe69daf22e08489ae8de56d86c\"\n",
    "    path1 = 'data.attributes.base_token_price_usd'\n",
    "    path2 = 'data.attributes.quote_token_price_usd'\n",
    "    path1h = 'data.attributes.price_change_percentage.h1'\n",
    "    gap = 20\n",
    "    current_time = datetime.datetime.now()\n",
    "    nonce = 5\n",
    "    data_analysis(url1, url2, token_name1, token_name2, path1, path2, path1h, gap, recipient_email, current_time, nonce)"
   ]
  },
  {
   "cell_type": "code",
   "execution_count": 11,
   "metadata": {},
   "outputs": [],
   "source": [
    "def main():\n",
    "    try:\n",
    "        MET_function()\n",
    "        T_function()\n",
    "        BIT_function()\n",
    "        PEPE_function()\n",
    "        DHT_function()\n",
    "        max_gap = max(gap_array)\n",
    "        max_nonce = np.where(gap_array == max_gap)\n",
    "        max_gap_token = token_array[max_nonce]\n",
    "        current_time = datetime.datetime.now()\n",
    "        global index, err_index\n",
    "        index = index + 1\n",
    "        err_index = 0\n",
    "        print(f\"rank:{index},now:{current_time},max gap token:{max_gap_token},gap_value:{max_gap}\")\n",
    "        print(\"\\n\")\n",
    "        # 让程序休眠,单位为秒\n",
    "        time.sleep(0.5 * 60)\n",
    "        main()\n",
    "    except Exception as e:\n",
    "        index = 0\n",
    "        err_index = err_index + 1\n",
    "        print(f\"err_rank:{err_index},Error: {e}\")\n",
    "        time.sleep(60)\n",
    "        if err_index < 25:\n",
    "            main()"
   ]
  },
  {
   "cell_type": "code",
   "execution_count": 12,
   "metadata": {},
   "outputs": [
    {
     "name": "stdout",
     "output_type": "stream",
     "text": [
      "MET_ETH 1.2809 MET_OP 1.1492 1h_change 0.0 11.46\n",
      "T_ETH 0.0245 T_OP 0.0222 1h_change 0 10.36\n",
      "BIT_ETH 0.079695107 BIT_OP 0.075816946973 1h_change 0.0 5.12\n",
      "PEPE_ETH 1.35e-06 PEPE_OP 1.47e-06 1h_change 0.0 8.16\n",
      "DHT_ETH 0.1105 DHT_OP 0.1002 1h_change 0.01 10.28\n",
      "rank:1,now:2023-07-29 12:50:02.643666,max gap token:['MET'],gap_value:11.46\n",
      "\n",
      "\n",
      "MET_ETH 1.2809 MET_OP 1.1492 1h_change 0.0 11.46\n",
      "T_ETH 0.0245 T_OP 0.0222 1h_change 0 10.36\n",
      "BIT_ETH 0.079695107 BIT_OP 0.075816946973 1h_change 0.0 5.12\n",
      "PEPE_ETH 1.35e-06 PEPE_OP 1.47e-06 1h_change 0.0 8.16\n",
      "DHT_ETH 0.1105 DHT_OP 0.1002 1h_change 0.01 10.28\n",
      "rank:2,now:2023-07-29 12:50:40.736923,max gap token:['MET'],gap_value:11.46\n",
      "\n",
      "\n"
     ]
    }
   ],
   "source": [
    "recipient_email = \"727226168@qq.com\"\n",
    "token_array = np.array([\"None\",\"MET\",\"T\",\"BIT\",\"PEPE\",'DHT'])\n",
    "gap_array = np.zeros(20)\n",
    "index = 0\n",
    "err_index = 0\n",
    "mail_index = np.zeros(20)\n",
    "main()"
   ]
  }
 ],
 "metadata": {
  "kernelspec": {
   "display_name": "Python 3",
   "language": "python",
   "name": "python3"
  },
  "language_info": {
   "codemirror_mode": {
    "name": "ipython",
    "version": 3
   },
   "file_extension": ".py",
   "mimetype": "text/x-python",
   "name": "python",
   "nbconvert_exporter": "python",
   "pygments_lexer": "ipython3",
   "version": "3.11.4"
  },
  "orig_nbformat": 4
 },
 "nbformat": 4,
 "nbformat_minor": 2
}
